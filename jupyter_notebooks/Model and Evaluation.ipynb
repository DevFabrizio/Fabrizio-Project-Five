{
 "cells": [
  {
   "cell_type": "markdown",
   "metadata": {
    "id": "0aStgWSO0E0E"
   },
   "source": [
    "# **Model and Evaluation**"
   ]
  },
  {
   "cell_type": "markdown",
   "metadata": {
    "id": "1eLEkw5O0ECa"
   },
   "source": [
    "## Objectives\n",
    "\n",
    "* Create Train and Test set and Machine Learning Pipeline to answer the second business requirement which is:\n",
    "    * The client is interested in predicting the house sale price from her four inherited houses and any other house in Ames, Iowa.\n",
    "\n",
    "## Inputs\n",
    "\n",
    "* The clean and feature engineered datasets are located at: outputs/dataset/collection\n",
    "\n",
    "## Outputs\n",
    "\n",
    "* Train set (features and target)\r",
    "* \n",
    "Test set (features and target\n",
    "* Modeling Pipeline. \n"
   ]
  },
  {
   "cell_type": "markdown",
   "metadata": {
    "id": "9uWZXH9LwoQg"
   },
   "source": [
    "---"
   ]
  },
  {
   "cell_type": "markdown",
   "metadata": {
    "id": "cqP-UeN-z3i2"
   },
   "source": [
    "# Change working directory"
   ]
  },
  {
   "cell_type": "markdown",
   "metadata": {},
   "source": [
    "* We are assuming you will store the notebooks in a subfolder, therefore when running the notebook in the editor, you will need to change the working directory"
   ]
  },
  {
   "cell_type": "markdown",
   "metadata": {
    "id": "aOGIGS-uz3i2"
   },
   "source": [
    "We need to change the working directory from its current folder to its parent folder\n",
    "* We access the current directory with os.getcwd()"
   ]
  },
  {
   "cell_type": "code",
   "execution_count": 2,
   "metadata": {
    "id": "wZfF_j-Bz3i4",
    "outputId": "66943449-1436-4c3d-85c7-b85f9f78349b"
   },
   "outputs": [
    {
     "data": {
      "text/plain": [
       "'/workspaces/Fabrizio-Project-Five/jupyter_notebooks'"
      ]
     },
     "execution_count": 2,
     "metadata": {},
     "output_type": "execute_result"
    }
   ],
   "source": [
    "import os\n",
    "current_dir = os.getcwd()\n",
    "current_dir"
   ]
  },
  {
   "cell_type": "markdown",
   "metadata": {
    "id": "9MWW8E7lz3i7"
   },
   "source": [
    "We want to make the parent of the current directory the new current directory\n",
    "* os.path.dirname() gets the parent directory\n",
    "* os.chir() defines the new current directory"
   ]
  },
  {
   "cell_type": "code",
   "execution_count": 3,
   "metadata": {
    "id": "TwHsQRWjz3i9",
    "outputId": "86849db3-cd2f-4cc5-ebb8-2d0caafa1a2c"
   },
   "outputs": [
    {
     "name": "stdout",
     "output_type": "stream",
     "text": [
      "You set a new current directory\n"
     ]
    }
   ],
   "source": [
    "os.chdir(os.path.dirname(current_dir))\n",
    "print(\"You set a new current directory\")"
   ]
  },
  {
   "cell_type": "markdown",
   "metadata": {
    "id": "M_xPk_Ijz3i-"
   },
   "source": [
    "Confirm the new current directory"
   ]
  },
  {
   "cell_type": "code",
   "execution_count": 4,
   "metadata": {
    "id": "vz3S-_kjz3jA",
    "outputId": "00b79ae4-75d0-4a96-d193-ac9ef9847ea2"
   },
   "outputs": [
    {
     "data": {
      "text/plain": [
       "'/workspaces/Fabrizio-Project-Five'"
      ]
     },
     "execution_count": 4,
     "metadata": {},
     "output_type": "execute_result"
    }
   ],
   "source": [
    "current_dir = os.getcwd()\n",
    "current_dir"
   ]
  },
  {
   "cell_type": "markdown",
   "metadata": {},
   "source": [
    "Before starting our model notebook we will create a cell where we will place all of our imports"
   ]
  },
  {
   "cell_type": "code",
   "execution_count": 8,
   "metadata": {},
   "outputs": [],
   "source": [
    "import pandas as pd\n",
    "from sklearn.model_selection import train_test_split"
   ]
  },
  {
   "cell_type": "markdown",
   "metadata": {
    "id": "-mavJ8DibrcQ"
   },
   "source": [
    "# Splitting the Dataset"
   ]
  },
  {
   "cell_type": "markdown",
   "metadata": {},
   "source": [
    "In this section we will split the dataset in Train and Test set in order to prepare it for model training. The test set will be 20% of the whole dataset just to make sure we are adherent to ML initial best practices."
   ]
  },
  {
   "cell_type": "code",
   "execution_count": 7,
   "metadata": {
    "scrolled": true
   },
   "outputs": [
    {
     "name": "stdout",
     "output_type": "stream",
     "text": [
      "<class 'pandas.core.frame.DataFrame'>\n",
      "RangeIndex: 1379 entries, 0 to 1378\n",
      "Data columns (total 39 columns):\n",
      " #   Column             Non-Null Count  Dtype  \n",
      "---  ------             --------------  -----  \n",
      " 0   1stFlrSF           1379 non-null   int64  \n",
      " 1   2ndFlrSF           1379 non-null   float64\n",
      " 2   BedroomAbvGr       1379 non-null   float64\n",
      " 3   BsmtFinSF1         1379 non-null   int64  \n",
      " 4   BsmtUnfSF          1379 non-null   int64  \n",
      " 5   EnclosedPorch      1379 non-null   float64\n",
      " 6   GarageArea         1379 non-null   int64  \n",
      " 7   GarageYrBlt        1379 non-null   float64\n",
      " 8   GrLivArea          1379 non-null   int64  \n",
      " 9   LotArea            1379 non-null   int64  \n",
      " 10  LotFrontage        1379 non-null   float64\n",
      " 11  MasVnrArea         1379 non-null   float64\n",
      " 12  OpenPorchSF        1379 non-null   int64  \n",
      " 13  OverallCond        1379 non-null   int64  \n",
      " 14  OverallQual        1379 non-null   int64  \n",
      " 15  TotalBsmtSF        1379 non-null   int64  \n",
      " 16  WoodDeckSF         1379 non-null   float64\n",
      " 17  YearBuilt          1379 non-null   int64  \n",
      " 18  YearRemodAdd       1379 non-null   int64  \n",
      " 19  SalePrice          1379 non-null   int64  \n",
      " 20  BsmtExposure_No    1379 non-null   int64  \n",
      " 21  BsmtExposure_Gd    1379 non-null   int64  \n",
      " 22  BsmtExposure_Mn    1379 non-null   int64  \n",
      " 23  BsmtExposure_Av    1379 non-null   int64  \n",
      " 24  BsmtExposure_None  1379 non-null   int64  \n",
      " 25  BsmtFinType1_GLQ   1379 non-null   int64  \n",
      " 26  BsmtFinType1_ALQ   1379 non-null   int64  \n",
      " 27  BsmtFinType1_Unf   1379 non-null   int64  \n",
      " 28  BsmtFinType1_Rec   1379 non-null   int64  \n",
      " 29  BsmtFinType1_BLQ   1379 non-null   int64  \n",
      " 30  BsmtFinType1_None  1379 non-null   int64  \n",
      " 31  BsmtFinType1_LwQ   1379 non-null   int64  \n",
      " 32  GarageFinish_RFn   1379 non-null   int64  \n",
      " 33  GarageFinish_Unf   1379 non-null   int64  \n",
      " 34  GarageFinish_Fin   1379 non-null   int64  \n",
      " 35  KitchenQual_Gd     1379 non-null   int64  \n",
      " 36  KitchenQual_TA     1379 non-null   int64  \n",
      " 37  KitchenQual_Ex     1379 non-null   int64  \n",
      " 38  KitchenQual_Fa     1379 non-null   int64  \n",
      "dtypes: float64(7), int64(32)\n",
      "memory usage: 420.3 KB\n"
     ]
    }
   ],
   "source": [
    "df_fe = pd.read_csv('outputs/dataset/collection/feature_engineered_dataset.csv')\n",
    "df_fe.info()"
   ]
  },
  {
   "cell_type": "code",
   "execution_count": 12,
   "metadata": {},
   "outputs": [
    {
     "name": "stdout",
     "output_type": "stream",
     "text": [
      "* Train set: (1103, 38) (1103,) \n",
      "* Test set: (276, 38) (276,)\n"
     ]
    }
   ],
   "source": [
    "X = df_fe.drop('SalePrice', axis=1)\n",
    "y = df_fe['SalePrice']\n",
    "X_train, X_test, y_train, y_test = train_test_split(X, y, test_size = 0.2, random_state=9)\n",
    "\n",
    "print(\"* Train set:\", X_train.shape, y_train.shape,\n",
    "      \"\\n* Test set:\",  X_test.shape, y_test.shape)"
   ]
  },
  {
   "cell_type": "markdown",
   "metadata": {
    "id": "ZY3l0-AxO93d"
   },
   "source": [
    "---"
   ]
  },
  {
   "cell_type": "markdown",
   "metadata": {
    "id": "uFQo3ycuO-v6"
   },
   "source": [
    "# Section 2"
   ]
  },
  {
   "cell_type": "markdown",
   "metadata": {},
   "source": [
    "Section 2 content"
   ]
  },
  {
   "cell_type": "code",
   "execution_count": null,
   "metadata": {},
   "outputs": [],
   "source": []
  },
  {
   "cell_type": "markdown",
   "metadata": {},
   "source": [
    "---"
   ]
  },
  {
   "cell_type": "markdown",
   "metadata": {},
   "source": [
    "NOTE"
   ]
  },
  {
   "cell_type": "markdown",
   "metadata": {},
   "source": [
    "* You may add as many sections as you want, as long as they support your project workflow.\n",
    "* All notebook's cells should be run top-down (you can't create a dynamic wherein a given point you need to go back to a previous cell to execute some task, like go back to a previous cell and refresh a variable content)"
   ]
  },
  {
   "cell_type": "markdown",
   "metadata": {},
   "source": [
    "---"
   ]
  },
  {
   "cell_type": "markdown",
   "metadata": {
    "id": "ltNetd085qHf"
   },
   "source": [
    "# Push files to Repo"
   ]
  },
  {
   "cell_type": "markdown",
   "metadata": {},
   "source": [
    "* If you do not need to push files to Repo, you may replace this section with \"Conclusions and Next Steps\" and state your conclusions and next steps."
   ]
  },
  {
   "cell_type": "code",
   "execution_count": null,
   "metadata": {
    "id": "aKlnIozA4eQO",
    "outputId": "fd09bc1f-adb1-4511-f6ce-492a6af570c0"
   },
   "outputs": [],
   "source": [
    "import os\n",
    "try:\n",
    "  # create here your folder\n",
    "  # os.makedirs(name='')\n",
    "except Exception as e:\n",
    "  print(e)\n"
   ]
  }
 ],
 "metadata": {
  "accelerator": "GPU",
  "colab": {
   "name": "Data Practitioner Jupyter Notebook.ipynb",
   "provenance": [],
   "toc_visible": true
  },
  "interpreter": {
   "hash": "8b8334dab9339717f727a1deaf837b322d7a41c20d15cc86be99a8e69ceec8ce"
  },
  "kernelspec": {
   "display_name": "Python 3 (ipykernel)",
   "language": "python",
   "name": "python3"
  },
  "language_info": {
   "codemirror_mode": {
    "name": "ipython",
    "version": 3
   },
   "file_extension": ".py",
   "mimetype": "text/x-python",
   "name": "python",
   "nbconvert_exporter": "python",
   "pygments_lexer": "ipython3",
   "version": "3.8.12"
  },
  "widgets": {
   "application/vnd.jupyter.widget-state+json": {
    "state": {},
    "version_major": 2,
    "version_minor": 0
   }
  }
 },
 "nbformat": 4,
 "nbformat_minor": 4
}
