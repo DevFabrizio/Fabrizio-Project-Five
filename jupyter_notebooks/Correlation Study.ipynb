{
 "cells": [
  {
   "cell_type": "markdown",
   "metadata": {
    "id": "0aStgWSO0E0E"
   },
   "source": [
    "# **Data Cleaning**"
   ]
  },
  {
   "cell_type": "markdown",
   "metadata": {
    "id": "1eLEkw5O0ECa"
   },
   "source": [
    "## Objectives\n",
    "\n",
    "* Import the Dataset\n",
    "* Run the correlation studies to analyze the variables most highly correlated with 'Sale Price'\n",
    "\n",
    "## Inputs\n",
    "\n",
    "* The dataset is located at: outputs/datasets/collection in the root level directory\n",
    "\n",
    "## Outputs\n",
    "\n",
    "* Results of the correlation study \n",
    "\n"
   ]
  },
  {
   "cell_type": "markdown",
   "metadata": {
    "id": "9uWZXH9LwoQg"
   },
   "source": [
    "---"
   ]
  },
  {
   "cell_type": "markdown",
   "metadata": {
    "id": "cqP-UeN-z3i2"
   },
   "source": [
    "# Change working directory"
   ]
  },
  {
   "cell_type": "markdown",
   "metadata": {},
   "source": [
    "* We are assuming you will store the notebooks in a subfolder, therefore when running the notebook in the editor, you will need to change the working directory"
   ]
  },
  {
   "cell_type": "markdown",
   "metadata": {
    "id": "aOGIGS-uz3i2"
   },
   "source": [
    "We need to change the working directory from its current folder to its parent folder\n",
    "* We access the current directory with os.getcwd()"
   ]
  },
  {
   "cell_type": "code",
   "execution_count": 5,
   "metadata": {
    "id": "wZfF_j-Bz3i4",
    "outputId": "66943449-1436-4c3d-85c7-b85f9f78349b"
   },
   "outputs": [
    {
     "data": {
      "text/plain": [
       "'/workspaces/Fabrizio-Project-Five'"
      ]
     },
     "execution_count": 5,
     "metadata": {},
     "output_type": "execute_result"
    }
   ],
   "source": [
    "import os\n",
    "current_dir = os.getcwd()\n",
    "current_dir"
   ]
  },
  {
   "cell_type": "markdown",
   "metadata": {
    "id": "9MWW8E7lz3i7"
   },
   "source": [
    "We want to make the parent of the current directory the new current directory\n",
    "* os.path.dirname() gets the parent directory\n",
    "* os.chir() defines the new current directory"
   ]
  },
  {
   "cell_type": "code",
   "execution_count": 6,
   "metadata": {
    "id": "TwHsQRWjz3i9",
    "outputId": "86849db3-cd2f-4cc5-ebb8-2d0caafa1a2c"
   },
   "outputs": [
    {
     "name": "stdout",
     "output_type": "stream",
     "text": [
      "You set a new current directory\n"
     ]
    }
   ],
   "source": [
    "os.chdir(os.path.dirname(current_dir))\n",
    "print(\"You set a new current directory\")"
   ]
  },
  {
   "cell_type": "markdown",
   "metadata": {
    "id": "M_xPk_Ijz3i-"
   },
   "source": [
    "Confirm the new current directory"
   ]
  },
  {
   "cell_type": "code",
   "execution_count": 7,
   "metadata": {
    "id": "vz3S-_kjz3jA",
    "outputId": "00b79ae4-75d0-4a96-d193-ac9ef9847ea2"
   },
   "outputs": [
    {
     "data": {
      "text/plain": [
       "'/workspaces'"
      ]
     },
     "execution_count": 7,
     "metadata": {},
     "output_type": "execute_result"
    }
   ],
   "source": [
    "current_dir = os.getcwd()\n",
    "current_dir"
   ]
  },
  {
   "cell_type": "markdown",
   "metadata": {
    "id": "-mavJ8DibrcQ"
   },
   "source": [
    "# Beginning of the correlation studies"
   ]
  },
  {
   "cell_type": "markdown",
   "metadata": {},
   "source": [
    "In this notebook we will run correlation studies in order to answer the first business requirement which was:\n",
    "* The client is interested in discovering how the house attributes correlate with the sale price. Therefore, the client expects data visualizations of the correlated variables against the sale price to show that.\n",
    "\n"
   ]
  },
  {
   "cell_type": "code",
   "execution_count": 8,
   "metadata": {},
   "outputs": [
    {
     "ename": "NameError",
     "evalue": "name 'df_ohe' is not defined",
     "output_type": "error",
     "traceback": [
      "\u001b[0;31m---------------------------------------------------------------------------\u001b[0m",
      "\u001b[0;31mNameError\u001b[0m                                 Traceback (most recent call last)",
      "Cell \u001b[0;32mIn[8], line 1\u001b[0m\n\u001b[0;32m----> 1\u001b[0m df_ohe_corr_spearman \u001b[38;5;241m=\u001b[39m \u001b[43mdf_ohe\u001b[49m\u001b[38;5;241m.\u001b[39mcorr(method\u001b[38;5;241m=\u001b[39m\u001b[38;5;124m'\u001b[39m\u001b[38;5;124mspearman\u001b[39m\u001b[38;5;124m'\u001b[39m)[\u001b[38;5;124m'\u001b[39m\u001b[38;5;124mSalePrice\u001b[39m\u001b[38;5;124m'\u001b[39m]\u001b[38;5;241m.\u001b[39msort_values(key\u001b[38;5;241m=\u001b[39m\u001b[38;5;28mabs\u001b[39m, ascending\u001b[38;5;241m=\u001b[39m\u001b[38;5;28;01mFalse\u001b[39;00m)[\u001b[38;5;241m1\u001b[39m:]\u001b[38;5;241m.\u001b[39mhead(\u001b[38;5;241m10\u001b[39m)\n\u001b[1;32m      3\u001b[0m df_ohe_corr_spearman\n",
      "\u001b[0;31mNameError\u001b[0m: name 'df_ohe' is not defined"
     ]
    }
   ],
   "source": [
    "df_ohe_corr_spearman = df_ohe.corr(method='spearman')['SalePrice'].sort_values(key=abs, ascending=False)[1:].head(10)\n",
    "\n",
    "df_ohe_corr_spearman"
   ]
  },
  {
   "cell_type": "markdown",
   "metadata": {},
   "source": [
    "In the above cell we can note the ten most correlated features with the variable 'SalePrice' using the Spearman method. Now let's do the same for the Pearson method and see if we get different values"
   ]
  },
  {
   "cell_type": "code",
   "execution_count": null,
   "metadata": {},
   "outputs": [],
   "source": [
    "df_ohe_corr_pearson = df_ohe.corr(method='pearson')['SalePrice'].sort_values(key=abs, ascending=False)[1:].head(10)\n",
    "df_ohe_corr_pearson"
   ]
  },
  {
   "cell_type": "markdown",
   "metadata": {},
   "source": [
    "It is clear that we have stronger correlation levels with the 'Spearman' method. Now that we know our most correlated features we can say that:\n",
    "\n",
    "- The price of a house increases with the increase of Overall Quality\n",
    "- The price of a house increases with the increase of Ground Living Area (in square feet) when above grade\n",
    "- The price of a house increases when the year of construction is more recent\n",
    "- The price of a house increases with the increase of Garage Area\n",
    "- The price of a house increases when the Kitchen Quality is NOT assesed as Typical/Average\n",
    "- The price of a house increases when the year of construction of the garage is more recent\n",
    "- The price of a house increases when the basement surface (measured in square feet) increases\n",
    "- The price of a house increases when the year of remodelling is more recent\n",
    "- The price of a house increases when the surface area of the 1st floor (measured in square feet) increases\n",
    "- The price of a house increases when the state of the garage is NOT unfinished"
   ]
  },
  {
   "cell_type": "code",
   "execution_count": null,
   "metadata": {},
   "outputs": [],
   "source": [
    "df_ohe.filter(df_ohe_corr_spearman.index) "
   ]
  },
  {
   "cell_type": "markdown",
   "metadata": {},
   "source": [
    "In order to fully answer the first business requirement (which was information on correlation levels with our target variable 'SalePrice' and data visualization for these levels) we need to display some plots that will help us understand this correlation significance on a visual level"
   ]
  },
  {
   "cell_type": "markdown",
   "metadata": {},
   "source": [
    "---"
   ]
  },
  {
   "cell_type": "markdown",
   "metadata": {},
   "source": [
    "Heat map as a first plot will help us significantly in visualize the correlation levels."
   ]
  },
  {
   "cell_type": "code",
   "execution_count": null,
   "metadata": {
    "scrolled": true
   },
   "outputs": [],
   "source": [
    "df_spearman_corr = df_ohe.corr(method='spearman')\n",
    "df_spearman_corr"
   ]
  },
  {
   "cell_type": "code",
   "execution_count": 9,
   "metadata": {},
   "outputs": [
    {
     "ename": "NameError",
     "evalue": "name 'df_spearman_corr' is not defined",
     "output_type": "error",
     "traceback": [
      "\u001b[0;31m---------------------------------------------------------------------------\u001b[0m",
      "\u001b[0;31mNameError\u001b[0m                                 Traceback (most recent call last)",
      "Cell \u001b[0;32mIn[9], line 6\u001b[0m\n\u001b[1;32m      4\u001b[0m sns\u001b[38;5;241m.\u001b[39mset_style(\u001b[38;5;124m'\u001b[39m\u001b[38;5;124mwhitegrid\u001b[39m\u001b[38;5;124m'\u001b[39m)\n\u001b[1;32m      5\u001b[0m plt\u001b[38;5;241m.\u001b[39mfigure(figsize\u001b[38;5;241m=\u001b[39m(\u001b[38;5;241m14\u001b[39m, \u001b[38;5;241m12\u001b[39m))\n\u001b[0;32m----> 6\u001b[0m mask \u001b[38;5;241m=\u001b[39m np\u001b[38;5;241m.\u001b[39mtriu(np\u001b[38;5;241m.\u001b[39mones_like(\u001b[43mdf_spearman_corr\u001b[49m, dtype\u001b[38;5;241m=\u001b[39m\u001b[38;5;28mbool\u001b[39m)) \u001b[38;5;66;03m# code taken from seaborn docs\u001b[39;00m\n\u001b[1;32m      7\u001b[0m sns\u001b[38;5;241m.\u001b[39mheatmap(df_spearman_corr,linewidths\u001b[38;5;241m=\u001b[39m\u001b[38;5;241m.5\u001b[39m, mask\u001b[38;5;241m=\u001b[39mmask)\n",
      "\u001b[0;31mNameError\u001b[0m: name 'df_spearman_corr' is not defined"
     ]
    },
    {
     "data": {
      "text/plain": [
       "<Figure size 1400x1200 with 0 Axes>"
      ]
     },
     "metadata": {},
     "output_type": "display_data"
    }
   ],
   "source": [
    "import numpy as np\n",
    "import seaborn as sns\n",
    "import matplotlib.pyplot as plt\n",
    "sns.set_style('whitegrid')\n",
    "plt.figure(figsize=(14, 12))\n",
    "mask = np.triu(np.ones_like(df_spearman_corr, dtype=bool)) # code taken from seaborn docs\n",
    "sns.heatmap(df_spearman_corr,linewidths=.5, mask=mask)"
   ]
  },
  {
   "cell_type": "code",
   "execution_count": null,
   "metadata": {},
   "outputs": [],
   "source": [
    "import matplotlib.pyplot as plt\n",
    "import seaborn as sns\n",
    "\"\"\"\n",
    "This function will create plot for the 10 most correlated variables with 'SalePrice'\n",
    "\"\"\"\n",
    "\n",
    "def corr_plots_saleprice(df, target_var):\n",
    "    for col in target_var:\n",
    "        if col in ['OverallQual', 'KitchenQual_TA', 'GarageFinish_Unf']:\n",
    "            plt.figure(figsize=(10, 8))\n",
    "            sns.violinplot(y=df['SalePrice'], x=df_ohe[col])\n",
    "        else:\n",
    "            plt.figure(figsize=(10, 8))\n",
    "            sns.scatterplot(y=df['SalePrice'], x=df_ohe[col])\n",
    "corr_plots_saleprice(df_ohe, df_ohe_corr_spearman.index.to_list())\n"
   ]
  },
  {
   "cell_type": "markdown",
   "metadata": {},
   "source": [
    "The plots shown above show us the distribution of the values for the most correlated values agianst 'Sale Price'. \n",
    "This allows us to draw stronger conclusions and have a firmer base for the rationale behind the selling price."
   ]
  },
  {
   "cell_type": "markdown",
   "metadata": {},
   "source": [
    "---"
   ]
  },
  {
   "cell_type": "markdown",
   "metadata": {},
   "source": [
    "Now that we have plots to show correlation levels we could generate some reports using the predictive power score library to investigate any potential non linear relationship."
   ]
  },
  {
   "cell_type": "code",
   "execution_count": null,
   "metadata": {},
   "outputs": [],
   "source": [
    "import ppscore as pps\n",
    "pps.matrix(df=df)"
   ]
  },
  {
   "cell_type": "markdown",
   "metadata": {},
   "source": [
    "Let's check these scores in a heat map"
   ]
  },
  {
   "cell_type": "code",
   "execution_count": null,
   "metadata": {},
   "outputs": [],
   "source": [
    "# code taken from the CI lesson on PPS\n",
    "pps_matrix_raw = pps.matrix(df)\n",
    "pps_matrix = pps_matrix_raw.filter(['x', 'y', 'ppscore']).pivot(columns='x', index='y', values='ppscore')\n",
    "plt.figure(figsize=(14, 12))\n",
    "sns.heatmap(data=pps_matrix, linewidths=0.5, annot=True, )\n"
   ]
  },
  {
   "cell_type": "markdown",
   "metadata": {},
   "source": [
    "As we can see from the heatmap we get some confirmation regarding our previous correlation study.\n",
    "On the Y axis when we analize 'SalePrice' we notice that the values which have a stronger predictive score are:\n",
    "* Overall Quality\n",
    "* Kitchen Quality\n",
    "* Year Built\n",
    "* Garage Area\n",
    "* Year Remodel Add (Year Remodel Date)\n",
    "\n",
    "Of these only the first two have levels of significant importance for the predictive score (above 0.2). This confirms our initial standard correlation analysis given the fact that after some feature engineer steps two of the most highly correlated variables in the dataset were 'Overall Quality' and 'Kitchen Quality TA' where TA stands for Typical/Average."
   ]
  },
  {
   "cell_type": "markdown",
   "metadata": {},
   "source": [
    "### Final conclusions"
   ]
  },
  {
   "cell_type": "markdown",
   "metadata": {},
   "source": [
    "In our correlation studies we were able to define the variables mostly correlated with our target 'Sale Price'. Conclusively there is only one variable which alone has the strongest correlation, and that is 'Overall Quality'. From a logic standpoint is quite obvious but some other things we might want to consider is that other factors, when summed up together, might play a significant role in determining the appropriate price range for a given house.\n",
    "\n",
    "Even without a ML pipeline our friend Lydia Doe would still be able to set the price of her inherited houses to a profitable yet competitive range.\n",
    "\n",
    "Now let's move to our next notebook where we will proceed with the ML pipeline steps."
   ]
  },
  {
   "cell_type": "code",
   "execution_count": null,
   "metadata": {},
   "outputs": [],
   "source": []
  }
 ],
 "metadata": {
  "accelerator": "GPU",
  "colab": {
   "name": "Data Practitioner Jupyter Notebook.ipynb",
   "provenance": [],
   "toc_visible": true
  },
  "interpreter": {
   "hash": "8b8334dab9339717f727a1deaf837b322d7a41c20d15cc86be99a8e69ceec8ce"
  },
  "kernelspec": {
   "display_name": "Python 3 (ipykernel)",
   "language": "python",
   "name": "python3"
  },
  "language_info": {
   "codemirror_mode": {
    "name": "ipython",
    "version": 3
   },
   "file_extension": ".py",
   "mimetype": "text/x-python",
   "name": "python",
   "nbconvert_exporter": "python",
   "pygments_lexer": "ipython3",
   "version": "3.8.12"
  },
  "widgets": {
   "application/vnd.jupyter.widget-state+json": {
    "state": {},
    "version_major": 2,
    "version_minor": 0
   }
  }
 },
 "nbformat": 4,
 "nbformat_minor": 4
}
