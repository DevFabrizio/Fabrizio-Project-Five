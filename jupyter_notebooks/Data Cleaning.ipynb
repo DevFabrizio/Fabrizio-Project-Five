{
 "cells": [
  {
   "cell_type": "markdown",
   "metadata": {
    "id": "0aStgWSO0E0E"
   },
   "source": [
    "# **Data Cleaning**"
   ]
  },
  {
   "cell_type": "markdown",
   "metadata": {
    "id": "1eLEkw5O0ECa"
   },
   "source": [
    "## Objectives\n",
    "\n",
    "* Import the Dataset\n",
    "* Analyze the necessary steps for data cleaning\n",
    "\n",
    "## Inputs\n",
    "\n",
    "* The dataset is located at: outputs/datasets/collection in the root level directory\n",
    "\n",
    "## Outputs\n",
    "\n",
    "* Cleaned dataset, ready for correlation studies in order to answer business requirements\n",
    "\n"
   ]
  },
  {
   "cell_type": "markdown",
   "metadata": {
    "id": "9uWZXH9LwoQg"
   },
   "source": [
    "---"
   ]
  },
  {
   "cell_type": "markdown",
   "metadata": {
    "id": "cqP-UeN-z3i2"
   },
   "source": [
    "# Change working directory"
   ]
  },
  {
   "cell_type": "markdown",
   "metadata": {},
   "source": [
    "* We are assuming you will store the notebooks in a subfolder, therefore when running the notebook in the editor, you will need to change the working directory"
   ]
  },
  {
   "cell_type": "markdown",
   "metadata": {
    "id": "aOGIGS-uz3i2"
   },
   "source": [
    "We need to change the working directory from its current folder to its parent folder\n",
    "* We access the current directory with os.getcwd()"
   ]
  },
  {
   "cell_type": "code",
   "execution_count": 1,
   "metadata": {
    "id": "wZfF_j-Bz3i4",
    "outputId": "66943449-1436-4c3d-85c7-b85f9f78349b"
   },
   "outputs": [
    {
     "data": {
      "text/plain": [
       "'/workspaces/Fabrizio-Project-Five/jupyter_notebooks'"
      ]
     },
     "execution_count": 1,
     "metadata": {},
     "output_type": "execute_result"
    }
   ],
   "source": [
    "import os\n",
    "current_dir = os.getcwd()\n",
    "current_dir"
   ]
  },
  {
   "cell_type": "markdown",
   "metadata": {
    "id": "9MWW8E7lz3i7"
   },
   "source": [
    "We want to make the parent of the current directory the new current directory\n",
    "* os.path.dirname() gets the parent directory\n",
    "* os.chir() defines the new current directory"
   ]
  },
  {
   "cell_type": "code",
   "execution_count": 2,
   "metadata": {
    "id": "TwHsQRWjz3i9",
    "outputId": "86849db3-cd2f-4cc5-ebb8-2d0caafa1a2c"
   },
   "outputs": [
    {
     "name": "stdout",
     "output_type": "stream",
     "text": [
      "You set a new current directory\n"
     ]
    }
   ],
   "source": [
    "os.chdir(os.path.dirname(current_dir))\n",
    "print(\"You set a new current directory\")"
   ]
  },
  {
   "cell_type": "markdown",
   "metadata": {
    "id": "M_xPk_Ijz3i-"
   },
   "source": [
    "Confirm the new current directory"
   ]
  },
  {
   "cell_type": "code",
   "execution_count": 3,
   "metadata": {
    "id": "vz3S-_kjz3jA",
    "outputId": "00b79ae4-75d0-4a96-d193-ac9ef9847ea2"
   },
   "outputs": [
    {
     "data": {
      "text/plain": [
       "'/workspaces/Fabrizio-Project-Five'"
      ]
     },
     "execution_count": 3,
     "metadata": {},
     "output_type": "execute_result"
    }
   ],
   "source": [
    "current_dir = os.getcwd()\n",
    "current_dir"
   ]
  },
  {
   "cell_type": "markdown",
   "metadata": {
    "id": "-mavJ8DibrcQ"
   },
   "source": [
    "# Analysis of the dataset"
   ]
  },
  {
   "cell_type": "markdown",
   "metadata": {},
   "source": [
    "In this section we will take a look at all the missing data in the dataset"
   ]
  },
  {
   "cell_type": "code",
   "execution_count": 4,
   "metadata": {
    "scrolled": true
   },
   "outputs": [
    {
     "name": "stdout",
     "output_type": "stream",
     "text": [
      "<class 'pandas.core.frame.DataFrame'>\n",
      "RangeIndex: 1460 entries, 0 to 1459\n",
      "Data columns (total 24 columns):\n",
      " #   Column         Non-Null Count  Dtype  \n",
      "---  ------         --------------  -----  \n",
      " 0   1stFlrSF       1460 non-null   int64  \n",
      " 1   2ndFlrSF       1374 non-null   float64\n",
      " 2   BedroomAbvGr   1361 non-null   float64\n",
      " 3   BsmtExposure   1460 non-null   object \n",
      " 4   BsmtFinSF1     1460 non-null   int64  \n",
      " 5   BsmtFinType1   1346 non-null   object \n",
      " 6   BsmtUnfSF      1460 non-null   int64  \n",
      " 7   EnclosedPorch  136 non-null    float64\n",
      " 8   GarageArea     1460 non-null   int64  \n",
      " 9   GarageFinish   1298 non-null   object \n",
      " 10  GarageYrBlt    1379 non-null   float64\n",
      " 11  GrLivArea      1460 non-null   int64  \n",
      " 12  KitchenQual    1460 non-null   object \n",
      " 13  LotArea        1460 non-null   int64  \n",
      " 14  LotFrontage    1201 non-null   float64\n",
      " 15  MasVnrArea     1452 non-null   float64\n",
      " 16  OpenPorchSF    1460 non-null   int64  \n",
      " 17  OverallCond    1460 non-null   int64  \n",
      " 18  OverallQual    1460 non-null   int64  \n",
      " 19  TotalBsmtSF    1460 non-null   int64  \n",
      " 20  WoodDeckSF     155 non-null    float64\n",
      " 21  YearBuilt      1460 non-null   int64  \n",
      " 22  YearRemodAdd   1460 non-null   int64  \n",
      " 23  SalePrice      1460 non-null   int64  \n",
      "dtypes: float64(7), int64(13), object(4)\n",
      "memory usage: 273.9+ KB\n"
     ]
    }
   ],
   "source": [
    "import pandas as pd\n",
    "df = pd.read_csv('inputs/datasets/raw/house-price-20211124T154130Z-001/house-price/house_prices_records.csv')\n",
    "df.info()"
   ]
  },
  {
   "cell_type": "markdown",
   "metadata": {},
   "source": [
    "Now the features with missing values are:\n",
    "* 2ndFlrSF\n",
    "* BedroomAbvGr\n",
    "* BsmtFinType1\n",
    "* EnclosedPorch\n",
    "* GarageFinish\n",
    "* GarageYrBlt\n",
    "* LotFrontage\n",
    "* MasVnrArea\n",
    "* WoodDeckSF\n",
    "\n",
    " Of these features only 2 are categorical (BsmtFinType1, GarageFinish). In order to transform these two features and the other categorical features into numbers we will have to use some feature engineering techniques. These steps will be highlighted later in another notebook since ML algorithms and correlation techniques need numerical data in order to work. \n",
    "\n",
    " Now we will look at our missing values from features with numerical data type. \n",
    "\n",
    "- 2ndFlrSF stands for the square feet of surface found at the 2nd floor. Given the fact that this dataset is all from houses in the same area we can fill the missing data with a mean value found for that column.\n",
    "- BedroomAbvGr stands for bedroom above grade and it's a score that spans 0 to 8. Here too we can substitute the missing values with a mean score in order to keep the distribution unaffected.\n",
    "- Enclosed Porch is a square feet range of surface area. Since many of the values are 0 and only few have a square feet value above 0 we can infer that those with 0 are houses with no enclosed porch. We will fill the missing values with 0.\n",
    "- GarageYrBlt stands for the year during which the house garage has been built. In this case the missing data is present due to the fact that the house in question has no garage. It would be inprudent to fill the missing values with the mean of the year or other imputation methods. In this case we will drop the rows with the missing data.\n",
    "- Lot frontage stands for the amount of linear feet of the property in contact with the road. For all the missing values we will impute the mean value of the column.\n",
    "- MasVnrArea. This column refers to the masonry veneer area of the prorperty. Since the vast majority of data points for this feature are 0 we will fill the few (just 8 data points) empty slots with 0.\n",
    "- WoodDeckSF. This feature refers to the surface area of the wooden deck in square feet. The number of missing data in this feature is greater than in any other but we can safely assume that this is due to a lack of a wooden deck in the house taken into consideration. For this column we can simply impute 0 for all the missing values."
   ]
  },
  {
   "cell_type": "markdown",
   "metadata": {
    "id": "ZY3l0-AxO93d"
   },
   "source": [
    "---"
   ]
  },
  {
   "cell_type": "markdown",
   "metadata": {
    "id": "uFQo3ycuO-v6"
   },
   "source": [
    "# Data cleaning steps"
   ]
  },
  {
   "cell_type": "markdown",
   "metadata": {},
   "source": [
    "In this section we will apply the cleaning steps as highlighted in the previous paragraph.\n",
    "A quick summary of the steps we'll take:\n",
    "- 2ndFlrSF: impute mean value for the missing data\n",
    "- BedroomAbvGr: impute mean value for the missing data\n",
    "- Enclosed Porch: impute value of 0 for the missing data\n",
    "- GarageYrBlt: drop the rows with missing data\n",
    "- LotFrontage: impute mean value for the missing data\n",
    "- MasVnrArea: impute value of 0 for the missing data\n",
    "- WoodDeckSF: impute value of 0 for the missing data"
   ]
  },
  {
   "cell_type": "code",
   "execution_count": 43,
   "metadata": {},
   "outputs": [
    {
     "data": {
      "text/html": [
       "<div>\n",
       "<style scoped>\n",
       "    .dataframe tbody tr th:only-of-type {\n",
       "        vertical-align: middle;\n",
       "    }\n",
       "\n",
       "    .dataframe tbody tr th {\n",
       "        vertical-align: top;\n",
       "    }\n",
       "\n",
       "    .dataframe thead th {\n",
       "        text-align: right;\n",
       "    }\n",
       "</style>\n",
       "<table border=\"1\" class=\"dataframe\">\n",
       "  <thead>\n",
       "    <tr style=\"text-align: right;\">\n",
       "      <th></th>\n",
       "      <th>1stFlrSF</th>\n",
       "      <th>2ndFlrSF</th>\n",
       "      <th>BedroomAbvGr</th>\n",
       "      <th>BsmtExposure</th>\n",
       "      <th>BsmtFinSF1</th>\n",
       "      <th>BsmtFinType1</th>\n",
       "      <th>BsmtUnfSF</th>\n",
       "      <th>EnclosedPorch</th>\n",
       "      <th>GarageArea</th>\n",
       "      <th>GarageFinish</th>\n",
       "      <th>...</th>\n",
       "      <th>LotFrontage</th>\n",
       "      <th>MasVnrArea</th>\n",
       "      <th>OpenPorchSF</th>\n",
       "      <th>OverallCond</th>\n",
       "      <th>OverallQual</th>\n",
       "      <th>TotalBsmtSF</th>\n",
       "      <th>WoodDeckSF</th>\n",
       "      <th>YearBuilt</th>\n",
       "      <th>YearRemodAdd</th>\n",
       "      <th>SalePrice</th>\n",
       "    </tr>\n",
       "  </thead>\n",
       "  <tbody>\n",
       "    <tr>\n",
       "      <th>0</th>\n",
       "      <td>856</td>\n",
       "      <td>854.000000</td>\n",
       "      <td>3.000000</td>\n",
       "      <td>No</td>\n",
       "      <td>706</td>\n",
       "      <td>GLQ</td>\n",
       "      <td>150</td>\n",
       "      <td>0.0</td>\n",
       "      <td>548</td>\n",
       "      <td>RFn</td>\n",
       "      <td>...</td>\n",
       "      <td>65.0</td>\n",
       "      <td>196.0</td>\n",
       "      <td>61</td>\n",
       "      <td>5</td>\n",
       "      <td>7</td>\n",
       "      <td>856</td>\n",
       "      <td>0.0</td>\n",
       "      <td>2003</td>\n",
       "      <td>2003</td>\n",
       "      <td>208500</td>\n",
       "    </tr>\n",
       "    <tr>\n",
       "      <th>1</th>\n",
       "      <td>1262</td>\n",
       "      <td>0.000000</td>\n",
       "      <td>3.000000</td>\n",
       "      <td>Gd</td>\n",
       "      <td>978</td>\n",
       "      <td>ALQ</td>\n",
       "      <td>284</td>\n",
       "      <td>0.0</td>\n",
       "      <td>460</td>\n",
       "      <td>RFn</td>\n",
       "      <td>...</td>\n",
       "      <td>80.0</td>\n",
       "      <td>0.0</td>\n",
       "      <td>0</td>\n",
       "      <td>8</td>\n",
       "      <td>6</td>\n",
       "      <td>1262</td>\n",
       "      <td>0.0</td>\n",
       "      <td>1976</td>\n",
       "      <td>1976</td>\n",
       "      <td>181500</td>\n",
       "    </tr>\n",
       "    <tr>\n",
       "      <th>2</th>\n",
       "      <td>920</td>\n",
       "      <td>866.000000</td>\n",
       "      <td>3.000000</td>\n",
       "      <td>Mn</td>\n",
       "      <td>486</td>\n",
       "      <td>GLQ</td>\n",
       "      <td>434</td>\n",
       "      <td>0.0</td>\n",
       "      <td>608</td>\n",
       "      <td>RFn</td>\n",
       "      <td>...</td>\n",
       "      <td>68.0</td>\n",
       "      <td>162.0</td>\n",
       "      <td>42</td>\n",
       "      <td>5</td>\n",
       "      <td>7</td>\n",
       "      <td>920</td>\n",
       "      <td>0.0</td>\n",
       "      <td>2001</td>\n",
       "      <td>2002</td>\n",
       "      <td>223500</td>\n",
       "    </tr>\n",
       "    <tr>\n",
       "      <th>3</th>\n",
       "      <td>961</td>\n",
       "      <td>348.524017</td>\n",
       "      <td>2.869214</td>\n",
       "      <td>No</td>\n",
       "      <td>216</td>\n",
       "      <td>ALQ</td>\n",
       "      <td>540</td>\n",
       "      <td>0.0</td>\n",
       "      <td>642</td>\n",
       "      <td>Unf</td>\n",
       "      <td>...</td>\n",
       "      <td>60.0</td>\n",
       "      <td>0.0</td>\n",
       "      <td>35</td>\n",
       "      <td>5</td>\n",
       "      <td>7</td>\n",
       "      <td>756</td>\n",
       "      <td>0.0</td>\n",
       "      <td>1915</td>\n",
       "      <td>1970</td>\n",
       "      <td>140000</td>\n",
       "    </tr>\n",
       "    <tr>\n",
       "      <th>4</th>\n",
       "      <td>1145</td>\n",
       "      <td>348.524017</td>\n",
       "      <td>4.000000</td>\n",
       "      <td>Av</td>\n",
       "      <td>655</td>\n",
       "      <td>GLQ</td>\n",
       "      <td>490</td>\n",
       "      <td>0.0</td>\n",
       "      <td>836</td>\n",
       "      <td>RFn</td>\n",
       "      <td>...</td>\n",
       "      <td>84.0</td>\n",
       "      <td>350.0</td>\n",
       "      <td>84</td>\n",
       "      <td>5</td>\n",
       "      <td>8</td>\n",
       "      <td>1145</td>\n",
       "      <td>0.0</td>\n",
       "      <td>2000</td>\n",
       "      <td>2000</td>\n",
       "      <td>250000</td>\n",
       "    </tr>\n",
       "    <tr>\n",
       "      <th>...</th>\n",
       "      <td>...</td>\n",
       "      <td>...</td>\n",
       "      <td>...</td>\n",
       "      <td>...</td>\n",
       "      <td>...</td>\n",
       "      <td>...</td>\n",
       "      <td>...</td>\n",
       "      <td>...</td>\n",
       "      <td>...</td>\n",
       "      <td>...</td>\n",
       "      <td>...</td>\n",
       "      <td>...</td>\n",
       "      <td>...</td>\n",
       "      <td>...</td>\n",
       "      <td>...</td>\n",
       "      <td>...</td>\n",
       "      <td>...</td>\n",
       "      <td>...</td>\n",
       "      <td>...</td>\n",
       "      <td>...</td>\n",
       "      <td>...</td>\n",
       "    </tr>\n",
       "    <tr>\n",
       "      <th>1455</th>\n",
       "      <td>953</td>\n",
       "      <td>694.000000</td>\n",
       "      <td>3.000000</td>\n",
       "      <td>No</td>\n",
       "      <td>0</td>\n",
       "      <td>Unf</td>\n",
       "      <td>953</td>\n",
       "      <td>0.0</td>\n",
       "      <td>460</td>\n",
       "      <td>RFn</td>\n",
       "      <td>...</td>\n",
       "      <td>62.0</td>\n",
       "      <td>0.0</td>\n",
       "      <td>40</td>\n",
       "      <td>5</td>\n",
       "      <td>6</td>\n",
       "      <td>953</td>\n",
       "      <td>0.0</td>\n",
       "      <td>1999</td>\n",
       "      <td>2000</td>\n",
       "      <td>175000</td>\n",
       "    </tr>\n",
       "    <tr>\n",
       "      <th>1456</th>\n",
       "      <td>2073</td>\n",
       "      <td>0.000000</td>\n",
       "      <td>2.869214</td>\n",
       "      <td>No</td>\n",
       "      <td>790</td>\n",
       "      <td>ALQ</td>\n",
       "      <td>589</td>\n",
       "      <td>0.0</td>\n",
       "      <td>500</td>\n",
       "      <td>Unf</td>\n",
       "      <td>...</td>\n",
       "      <td>85.0</td>\n",
       "      <td>119.0</td>\n",
       "      <td>0</td>\n",
       "      <td>6</td>\n",
       "      <td>6</td>\n",
       "      <td>1542</td>\n",
       "      <td>0.0</td>\n",
       "      <td>1978</td>\n",
       "      <td>1988</td>\n",
       "      <td>210000</td>\n",
       "    </tr>\n",
       "    <tr>\n",
       "      <th>1457</th>\n",
       "      <td>1188</td>\n",
       "      <td>1152.000000</td>\n",
       "      <td>4.000000</td>\n",
       "      <td>No</td>\n",
       "      <td>275</td>\n",
       "      <td>GLQ</td>\n",
       "      <td>877</td>\n",
       "      <td>0.0</td>\n",
       "      <td>252</td>\n",
       "      <td>RFn</td>\n",
       "      <td>...</td>\n",
       "      <td>66.0</td>\n",
       "      <td>0.0</td>\n",
       "      <td>60</td>\n",
       "      <td>9</td>\n",
       "      <td>7</td>\n",
       "      <td>1152</td>\n",
       "      <td>0.0</td>\n",
       "      <td>1941</td>\n",
       "      <td>2006</td>\n",
       "      <td>266500</td>\n",
       "    </tr>\n",
       "    <tr>\n",
       "      <th>1458</th>\n",
       "      <td>1078</td>\n",
       "      <td>0.000000</td>\n",
       "      <td>2.000000</td>\n",
       "      <td>Mn</td>\n",
       "      <td>49</td>\n",
       "      <td>NaN</td>\n",
       "      <td>0</td>\n",
       "      <td>112.0</td>\n",
       "      <td>240</td>\n",
       "      <td>Unf</td>\n",
       "      <td>...</td>\n",
       "      <td>68.0</td>\n",
       "      <td>0.0</td>\n",
       "      <td>0</td>\n",
       "      <td>6</td>\n",
       "      <td>5</td>\n",
       "      <td>1078</td>\n",
       "      <td>0.0</td>\n",
       "      <td>1950</td>\n",
       "      <td>1996</td>\n",
       "      <td>142125</td>\n",
       "    </tr>\n",
       "    <tr>\n",
       "      <th>1459</th>\n",
       "      <td>1256</td>\n",
       "      <td>0.000000</td>\n",
       "      <td>3.000000</td>\n",
       "      <td>No</td>\n",
       "      <td>830</td>\n",
       "      <td>BLQ</td>\n",
       "      <td>136</td>\n",
       "      <td>0.0</td>\n",
       "      <td>276</td>\n",
       "      <td>Fin</td>\n",
       "      <td>...</td>\n",
       "      <td>75.0</td>\n",
       "      <td>0.0</td>\n",
       "      <td>68</td>\n",
       "      <td>6</td>\n",
       "      <td>5</td>\n",
       "      <td>1256</td>\n",
       "      <td>736.0</td>\n",
       "      <td>1965</td>\n",
       "      <td>1965</td>\n",
       "      <td>147500</td>\n",
       "    </tr>\n",
       "  </tbody>\n",
       "</table>\n",
       "<p>1379 rows × 24 columns</p>\n",
       "</div>"
      ],
      "text/plain": [
       "      1stFlrSF     2ndFlrSF  BedroomAbvGr BsmtExposure  BsmtFinSF1  \\\n",
       "0          856   854.000000      3.000000           No         706   \n",
       "1         1262     0.000000      3.000000           Gd         978   \n",
       "2          920   866.000000      3.000000           Mn         486   \n",
       "3          961   348.524017      2.869214           No         216   \n",
       "4         1145   348.524017      4.000000           Av         655   \n",
       "...        ...          ...           ...          ...         ...   \n",
       "1455       953   694.000000      3.000000           No           0   \n",
       "1456      2073     0.000000      2.869214           No         790   \n",
       "1457      1188  1152.000000      4.000000           No         275   \n",
       "1458      1078     0.000000      2.000000           Mn          49   \n",
       "1459      1256     0.000000      3.000000           No         830   \n",
       "\n",
       "     BsmtFinType1  BsmtUnfSF  EnclosedPorch  GarageArea GarageFinish  ...  \\\n",
       "0             GLQ        150            0.0         548          RFn  ...   \n",
       "1             ALQ        284            0.0         460          RFn  ...   \n",
       "2             GLQ        434            0.0         608          RFn  ...   \n",
       "3             ALQ        540            0.0         642          Unf  ...   \n",
       "4             GLQ        490            0.0         836          RFn  ...   \n",
       "...           ...        ...            ...         ...          ...  ...   \n",
       "1455          Unf        953            0.0         460          RFn  ...   \n",
       "1456          ALQ        589            0.0         500          Unf  ...   \n",
       "1457          GLQ        877            0.0         252          RFn  ...   \n",
       "1458          NaN          0          112.0         240          Unf  ...   \n",
       "1459          BLQ        136            0.0         276          Fin  ...   \n",
       "\n",
       "      LotFrontage  MasVnrArea OpenPorchSF  OverallCond  OverallQual  \\\n",
       "0            65.0       196.0          61            5            7   \n",
       "1            80.0         0.0           0            8            6   \n",
       "2            68.0       162.0          42            5            7   \n",
       "3            60.0         0.0          35            5            7   \n",
       "4            84.0       350.0          84            5            8   \n",
       "...           ...         ...         ...          ...          ...   \n",
       "1455         62.0         0.0          40            5            6   \n",
       "1456         85.0       119.0           0            6            6   \n",
       "1457         66.0         0.0          60            9            7   \n",
       "1458         68.0         0.0           0            6            5   \n",
       "1459         75.0         0.0          68            6            5   \n",
       "\n",
       "      TotalBsmtSF  WoodDeckSF  YearBuilt  YearRemodAdd  SalePrice  \n",
       "0             856         0.0       2003          2003     208500  \n",
       "1            1262         0.0       1976          1976     181500  \n",
       "2             920         0.0       2001          2002     223500  \n",
       "3             756         0.0       1915          1970     140000  \n",
       "4            1145         0.0       2000          2000     250000  \n",
       "...           ...         ...        ...           ...        ...  \n",
       "1455          953         0.0       1999          2000     175000  \n",
       "1456         1542         0.0       1978          1988     210000  \n",
       "1457         1152         0.0       1941          2006     266500  \n",
       "1458         1078         0.0       1950          1996     142125  \n",
       "1459         1256       736.0       1965          1965     147500  \n",
       "\n",
       "[1379 rows x 24 columns]"
      ]
     },
     "execution_count": 43,
     "metadata": {},
     "output_type": "execute_result"
    }
   ],
   "source": [
    "# First we drop the rows with missing data from 'GarageYrBlt'\n",
    "df = df.dropna(subset='GarageYrBlt')\n",
    "\n",
    "\"\"\"\n",
    "This function will iterate over all the numerical features with missing variables and impute the missing data according \n",
    "to what we specified in the previous cells\n",
    "\"\"\"\n",
    "num_vars_with_miss = ['2ndFlrSF', 'BedroomAbvGr', 'EnclosedPorch', 'LotFrontage', 'MasVnrArea', 'WoodDeckSF']\n",
    "def impute_missing_values(vars_to_impute, df):\n",
    "    for col in vars_to_impute:\n",
    "        if col in ['EnclosedPorch', 'MasVnrArea', 'WoodDeckSF']:\n",
    "            df[col] = df[col].fillna(0)\n",
    "        else:\n",
    "            if col in ['2ndFlrSF', 'BedroomAbvGr', 'LotFrontage',]:\n",
    "                df[col] = df[col].fillna(df[col].mean())\n",
    "    return df\n",
    "            \n",
    "impute_missing_values(num_vars_with_miss, df)"
   ]
  },
  {
   "cell_type": "markdown",
   "metadata": {},
   "source": [
    "Now that we have filled the missing values for the numerical features we can check the dataset to ascertain the current status after the changes we made"
   ]
  },
  {
   "cell_type": "code",
   "execution_count": 44,
   "metadata": {},
   "outputs": [
    {
     "name": "stdout",
     "output_type": "stream",
     "text": [
      "<class 'pandas.core.frame.DataFrame'>\n",
      "Int64Index: 1379 entries, 0 to 1459\n",
      "Data columns (total 24 columns):\n",
      " #   Column         Non-Null Count  Dtype  \n",
      "---  ------         --------------  -----  \n",
      " 0   1stFlrSF       1379 non-null   int64  \n",
      " 1   2ndFlrSF       1379 non-null   float64\n",
      " 2   BedroomAbvGr   1379 non-null   float64\n",
      " 3   BsmtExposure   1379 non-null   object \n",
      " 4   BsmtFinSF1     1379 non-null   int64  \n",
      " 5   BsmtFinType1   1275 non-null   object \n",
      " 6   BsmtUnfSF      1379 non-null   int64  \n",
      " 7   EnclosedPorch  1379 non-null   float64\n",
      " 8   GarageArea     1379 non-null   int64  \n",
      " 9   GarageFinish   1225 non-null   object \n",
      " 10  GarageYrBlt    1379 non-null   float64\n",
      " 11  GrLivArea      1379 non-null   int64  \n",
      " 12  KitchenQual    1379 non-null   object \n",
      " 13  LotArea        1379 non-null   int64  \n",
      " 14  LotFrontage    1379 non-null   float64\n",
      " 15  MasVnrArea     1379 non-null   float64\n",
      " 16  OpenPorchSF    1379 non-null   int64  \n",
      " 17  OverallCond    1379 non-null   int64  \n",
      " 18  OverallQual    1379 non-null   int64  \n",
      " 19  TotalBsmtSF    1379 non-null   int64  \n",
      " 20  WoodDeckSF     1379 non-null   float64\n",
      " 21  YearBuilt      1379 non-null   int64  \n",
      " 22  YearRemodAdd   1379 non-null   int64  \n",
      " 23  SalePrice      1379 non-null   int64  \n",
      "dtypes: float64(7), int64(13), object(4)\n",
      "memory usage: 269.3+ KB\n"
     ]
    }
   ],
   "source": [
    "df.info()"
   ]
  },
  {
   "cell_type": "markdown",
   "metadata": {},
   "source": [
    "Now let's tackle the object features with missing data. As we know from our previous analysis these features are: Garage Finish and BsmtFinType1\n",
    "\n",
    "-  Garage Finish: This feature collects data on the status of the garage which can be:\n",
    "    - Finished\n",
    "    - Rough finished\n",
    "    - Unfinished\n",
    "    - None\n",
    "   \n",
    "For the missing data here we can impute 'Unfinished' because where None is present we see that the feature 'Garage Area' also shows 0, confirming the absence of a garage.\n",
    "\n",
    "---\n",
    "- BsmtFinType1: This feature referes to the state of the basement and it has the following possible values:\n",
    "    - Good Living Quarters\n",
    "    - Average Living Quarters\n",
    "    - Below Average Living Quarters\n",
    "    - Average Rec Room\n",
    "    - Low Quality\n",
    "    - Unfinished\n",
    "    - None\n",
    "     \n",
    "For the missing data we can fill with 'Unfinished' as well since the missing data corresponds with either 0 or a numerical value and 'Unfinished' is also the most common value fo this feature."
   ]
  },
  {
   "cell_type": "code",
   "execution_count": 45,
   "metadata": {},
   "outputs": [
    {
     "data": {
      "text/plain": [
       "0       2003.0\n",
       "1       1976.0\n",
       "2       2001.0\n",
       "3       1998.0\n",
       "4       2000.0\n",
       "         ...  \n",
       "1455    1999.0\n",
       "1456    1978.0\n",
       "1457    1941.0\n",
       "1458    1950.0\n",
       "1459    1965.0\n",
       "Name: GarageYrBlt, Length: 1379, dtype: float64"
      ]
     },
     "execution_count": 45,
     "metadata": {},
     "output_type": "execute_result"
    }
   ],
   "source": []
  },
  {
   "cell_type": "markdown",
   "metadata": {},
   "source": [
    "---"
   ]
  },
  {
   "cell_type": "markdown",
   "metadata": {
    "id": "ltNetd085qHf"
   },
   "source": [
    "# Push files to Repo"
   ]
  },
  {
   "cell_type": "markdown",
   "metadata": {},
   "source": [
    "* If you do not need to push files to Repo, you may replace this section with \"Conclusions and Next Steps\" and state your conclusions and next steps."
   ]
  },
  {
   "cell_type": "code",
   "execution_count": null,
   "metadata": {
    "id": "aKlnIozA4eQO",
    "outputId": "fd09bc1f-adb1-4511-f6ce-492a6af570c0"
   },
   "outputs": [],
   "source": [
    "import os\n",
    "try:\n",
    "  # create here your folder\n",
    "  # os.makedirs(name='')\n",
    "except Exception as e:\n",
    "  print(e)\n"
   ]
  }
 ],
 "metadata": {
  "accelerator": "GPU",
  "colab": {
   "name": "Data Practitioner Jupyter Notebook.ipynb",
   "provenance": [],
   "toc_visible": true
  },
  "interpreter": {
   "hash": "8b8334dab9339717f727a1deaf837b322d7a41c20d15cc86be99a8e69ceec8ce"
  },
  "kernelspec": {
   "display_name": "Python 3 (ipykernel)",
   "language": "python",
   "name": "python3"
  },
  "language_info": {
   "codemirror_mode": {
    "name": "ipython",
    "version": 3
   },
   "file_extension": ".py",
   "mimetype": "text/x-python",
   "name": "python",
   "nbconvert_exporter": "python",
   "pygments_lexer": "ipython3",
   "version": "3.8.12"
  },
  "widgets": {
   "application/vnd.jupyter.widget-state+json": {
    "state": {},
    "version_major": 2,
    "version_minor": 0
   }
  }
 },
 "nbformat": 4,
 "nbformat_minor": 4
}
